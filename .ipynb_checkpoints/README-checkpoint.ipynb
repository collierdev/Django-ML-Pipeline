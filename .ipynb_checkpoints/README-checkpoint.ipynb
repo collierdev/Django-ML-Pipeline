{
 "cells": [
  {
   "cell_type": "markdown",
   "metadata": {},
   "source": [
    "## Django - React - ML pipeline\n",
    "\n",
    "The purpose of this project is to build a genomics pipeline leveraging machine learning in conjuction with a django backend server and an intuitive React driven user interface. As of now this readme will contain the work as it is completed to get set up for reproducability. \n",
    "\n",
    "Likely the best strategy for deployment is de-coupling the front-end and back-end api, running under different domains on seperate servers. This will allow for greater flexibility and scalabilty once the front-end and back-end are dockerized and pushed to kubernetes clusters. \n"
   ]
  },
  {
   "cell_type": "code",
   "execution_count": 3,
   "metadata": {},
   "outputs": [],
   "source": [
    "# Creating the conda environtment to run django and the analysis (Would not work within vscode and moved to the conda base environment within powershell)\n",
    "\n",
    "# conda create --name GRAIL\n",
    "!conda activate GRAIL"
   ]
  },
  {
   "cell_type": "code",
   "execution_count": null,
   "metadata": {},
   "outputs": [
    {
     "ename": "",
     "evalue": "",
     "output_type": "error",
     "traceback": [
      "\u001b[1;31mThe kernel failed to start due to the missing module 'ipykernel_launcher'. Consider installing this module. \n",
      "View Jupyter <a href='command:jupyter.viewOutput'>log</a> for further details.\n",
      "<a href='https://aka.ms/kernelFailuresMissingModule'>Learn more</a>"
     ]
    }
   ],
   "source": [
    "!conda activate GRAIL\n",
    "!conda env list"
   ]
  },
  {
   "cell_type": "code",
   "execution_count": null,
   "metadata": {},
   "outputs": [],
   "source": [
    "\n",
    "# Install pxiedust_node to interact with node.js\n",
    "!pip install pixiedust_node"
   ]
  },
  {
   "cell_type": "markdown",
   "metadata": {},
   "source": [
    "## Frontend Dependencies Setup (React Install)\n",
    "\n",
    "I've chosen to use react as the frontend as I have experience within the framework. This app will leverage webgl via three to render the user interfaces and 3d molecules within a virtual environment allowing for better visualization and intuition seeing the genome in new ways. This will ideally be able to be integrated with vr in the future to further it's possibilities. "
   ]
  },
  {
   "cell_type": "code",
   "execution_count": 2,
   "metadata": {},
   "outputs": [
    {
     "name": "stderr",
     "output_type": "stream",
     "text": [
      "A subdirectory or file React-Three-Frontend already exists.\n"
     ]
    },
    {
     "data": {
      "text/plain": [
       "'c:\\\\Users\\\\frisk\\\\Documents\\\\Data Science Practice\\\\Django-ML-pipeline\\\\Django-ML-pipeline\\\\React-Three-Frontend'"
      ]
     },
     "execution_count": 2,
     "metadata": {},
     "output_type": "execute_result"
    }
   ],
   "source": [
    "# Create the frontend file structure\n",
    "!mkdir React-Three-Frontend\n",
    "os.chdir('React-Three-Frontend')\n",
    "# Check working directory\n",
    "os.getcwd()\n",
    "\n"
   ]
  },
  {
   "cell_type": "code",
   "execution_count": null,
   "metadata": {},
   "outputs": [],
   "source": [
    "# Creating the react app\n",
    "!npx create-react-app client\n",
    "os.chdir('client')\n",
    "os.getcwd()"
   ]
  },
  {
   "cell_type": "code",
   "execution_count": null,
   "metadata": {},
   "outputs": [],
   "source": [
    "# Installing react dependencies \n",
    "!npm i --save three @react-three/fiber @react-three/drei @react-three/xr"
   ]
  },
  {
   "cell_type": "code",
   "execution_count": null,
   "metadata": {},
   "outputs": [],
   "source": []
  },
  {
   "cell_type": "markdown",
   "metadata": {},
   "source": [
    "## Backend Setup (Django Install)"
   ]
  },
  {
   "cell_type": "code",
   "execution_count": 8,
   "metadata": {},
   "outputs": [
    {
     "name": "stdout",
     "output_type": "stream",
     "text": [
      "Collecting package metadata (current_repodata.json): ...working... done\n",
      "Solving environment: ...working... done\n",
      "\n",
      "## Package Plan ##\n",
      "\n",
      "  environment location: C:\\Users\\frisk\\anaconda3\n",
      "\n",
      "  added / updated specs:\n",
      "    - django\n",
      "\n",
      "\n",
      "The following packages will be downloaded:\n",
      "\n",
      "    package                    |            build\n",
      "    ---------------------------|-----------------\n",
      "    asgiref-3.5.0              |     pyhd8ed1ab_0          22 KB  conda-forge\n",
      "    django-4.0.3               |   py39hcbf5309_0         5.1 MB  conda-forge\n",
      "    python-tzdata-2022.1       |     pyhd8ed1ab_0         151 KB  conda-forge\n",
      "    sqlparse-0.4.2             |     pyhd8ed1ab_0          34 KB  conda-forge\n",
      "    ------------------------------------------------------------\n",
      "                                           Total:         5.3 MB\n",
      "\n",
      "The following NEW packages will be INSTALLED:\n",
      "\n",
      "  asgiref            conda-forge/noarch::asgiref-3.5.0-pyhd8ed1ab_0\n",
      "  django             conda-forge/win-64::django-4.0.3-py39hcbf5309_0\n",
      "  python-tzdata      conda-forge/noarch::python-tzdata-2022.1-pyhd8ed1ab_0\n",
      "  sqlparse           conda-forge/noarch::sqlparse-0.4.2-pyhd8ed1ab_0\n",
      "\n",
      "The following packages will be SUPERSEDED by a higher-priority channel:\n",
      "\n",
      "  conda              pkgs/main::conda-4.12.0-py39haa95532_0 --> conda-forge::conda-4.12.0-py39hcbf5309_0\n",
      "\n",
      "\n",
      "\n",
      "Downloading and Extracting Packages\n",
      "\n",
      "sqlparse-0.4.2       | 34 KB     |            |   0% \n",
      "sqlparse-0.4.2       | 34 KB     | ####7      |  47% \n",
      "sqlparse-0.4.2       | 34 KB     | ########## | 100% \n",
      "\n",
      "asgiref-3.5.0        | 22 KB     |            |   0% \n",
      "asgiref-3.5.0        | 22 KB     | ########## | 100% \n",
      "asgiref-3.5.0        | 22 KB     | ########## | 100% \n",
      "\n",
      "django-4.0.3         | 5.1 MB    |            |   0% \n",
      "django-4.0.3         | 5.1 MB    | #####9     |  59% \n",
      "django-4.0.3         | 5.1 MB    | ########## | 100% \n",
      "\n",
      "python-tzdata-2022.1 | 151 KB    |            |   0% \n",
      "python-tzdata-2022.1 | 151 KB    | ########## | 100% \n",
      "python-tzdata-2022.1 | 151 KB    | ########## | 100% \n",
      "Preparing transaction: ...working... done\n",
      "Verifying transaction: ...working... done\n",
      "Executing transaction: ...working... done\n",
      "Note: you may need to restart the kernel to use updated packages.\n",
      "\n"
     ]
    }
   ],
   "source": [
    "conda install -c conda-forge django"
   ]
  },
  {
   "cell_type": "markdown",
   "metadata": {},
   "source": []
  },
  {
   "cell_type": "code",
   "execution_count": 9,
   "metadata": {},
   "outputs": [
    {
     "ename": "SyntaxError",
     "evalue": "invalid syntax (Temp/ipykernel_8600/3826040845.py, line 1)",
     "output_type": "error",
     "traceback": [
      "\u001b[1;36m  File \u001b[1;32m\"C:\\Users\\frisk\\AppData\\Local\\Temp/ipykernel_8600/3826040845.py\"\u001b[1;36m, line \u001b[1;32m1\u001b[0m\n\u001b[1;33m    django-admin startproject GRAIL\u001b[0m\n\u001b[1;37m                 ^\u001b[0m\n\u001b[1;31mSyntaxError\u001b[0m\u001b[1;31m:\u001b[0m invalid syntax\n"
     ]
    }
   ],
   "source": [
    "django-admin startproject GRAIL"
   ]
  },
  {
   "cell_type": "code",
   "execution_count": null,
   "metadata": {},
   "outputs": [],
   "source": []
  }
 ],
 "metadata": {
  "interpreter": {
   "hash": "984529a149e893ace32d3b467105861ba61b0c87768e6dd88d916f32fc2ae05e"
  },
  "kernelspec": {
   "display_name": "Python 3 (ipykernel)",
   "language": "python",
   "name": "python3"
  },
  "language_info": {
   "codemirror_mode": {
    "name": "ipython",
    "version": 3
   },
   "file_extension": ".py",
   "mimetype": "text/x-python",
   "name": "python",
   "nbconvert_exporter": "python",
   "pygments_lexer": "ipython3",
   "version": "3.9.7"
  }
 },
 "nbformat": 4,
 "nbformat_minor": 2
}

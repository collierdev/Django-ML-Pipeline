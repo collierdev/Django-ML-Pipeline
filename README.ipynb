{
 "cells": [
  {
   "cell_type": "markdown",
   "metadata": {},
   "source": [
    "## Django - React - ML pipeline\n",
    "\n",
    "The purpose of this project is to build a genomics pipeline leveraging machine learning in conjuction with a django backend server and an intuitive React driven user interface. "
   ]
  },
  {
   "cell_type": "code",
   "execution_count": null,
   "metadata": {},
   "outputs": [],
   "source": []
  }
 ],
 "metadata": {
  "language_info": {
   "name": "python"
  },
  "orig_nbformat": 4
 },
 "nbformat": 4,
 "nbformat_minor": 2
}

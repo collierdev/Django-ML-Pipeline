{
 "cells": [
  {
   "cell_type": "markdown",
   "metadata": {},
   "source": [
    "## Django - React - ML pipeline\n",
    "\n",
    "The purpose of this project is to build a genomics pipeline leveraging machine learning in conjuction with a django backend server and an intuitive React driven user interface. \n",
    "\n",
    "Likely the best strategy for deployment is de-coupling the front-end and back-end api, running under different domains on seperate servers. This will allow for greater flexibility and scalabilty once the front-end and back-end are dockerized and pushed to kubernetes clusters. "
   ]
  },
  {
   "cell_type": "code",
   "execution_count": null,
   "metadata": {},
   "outputs": [],
   "source": []
  }
 ],
 "metadata": {
  "language_info": {
   "name": "python"
  },
  "orig_nbformat": 4
 },
 "nbformat": 4,
 "nbformat_minor": 2
}
